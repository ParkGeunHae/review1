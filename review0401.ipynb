{
  "nbformat": 4,
  "nbformat_minor": 0,
  "metadata": {
    "colab": {
      "provenance": [],
      "authorship_tag": "ABX9TyNDezJTMziSwtWiZFiHg77T",
      "include_colab_link": true
    },
    "kernelspec": {
      "name": "python3",
      "display_name": "Python 3"
    },
    "language_info": {
      "name": "python"
    }
  },
  "cells": [
    {
      "cell_type": "markdown",
      "metadata": {
        "id": "view-in-github",
        "colab_type": "text"
      },
      "source": [
        "<a href=\"https://colab.research.google.com/github/ParkGeunHae/review1/blob/main/review0401.ipynb\" target=\"_parent\"><img src=\"https://colab.research.google.com/assets/colab-badge.svg\" alt=\"Open In Colab\"/></a>"
      ]
    },
    {
      "cell_type": "markdown",
      "source": [
        "###[실습 : 파이썬 정보 확인하기]"
      ],
      "metadata": {
        "id": "wfMKv53TyRXM"
      }
    },
    {
      "cell_type": "code",
      "execution_count": 16,
      "metadata": {
        "colab": {
          "base_uri": "https://localhost:8080/",
          "height": 54
        },
        "id": "sQg1WRZeyEVv",
        "outputId": "23e14319-f541-44ac-fc81-8bafaa2d3fc2"
      },
      "outputs": [
        {
          "output_type": "stream",
          "name": "stdout",
          "text": [
            "Python 3.10.12\n"
          ]
        },
        {
          "output_type": "execute_result",
          "data": {
            "text/plain": [
              "'/content'"
            ],
            "application/vnd.google.colaboratory.intrinsic+json": {
              "type": "string"
            }
          },
          "metadata": {},
          "execution_count": 16
        }
      ],
      "source": [
        "# 1. 설치된 파이썬 버전 출력하기\n",
        "!python -V\n",
        "\n",
        "# 2.파이썬 실행파일(python.exe)위치 또는 파이썬 설치 위치 출력하기\n",
        "import sys\n",
        "sys.version\n",
        "sys.executable\n",
        "\n",
        "# 3. 현재 위치(물리적 위치/폴더 위치)출력하기\n",
        "import os\n",
        "os.getcwd()"
      ]
    },
    {
      "cell_type": "markdown",
      "source": [
        "###다양한 변수 출력 방법"
      ],
      "metadata": {
        "id": "FeSvLSt53ieD"
      }
    },
    {
      "cell_type": "code",
      "source": [
        "a=input('키보드로 숫자를 입력해 주세요')\n",
        "\n",
        "#출력방법1\n",
        "print('변수 a에 기억된 값은',a,'입니다.')\n",
        "\n",
        "#출력방법2\n",
        "print('변수 a에 기억된 값은 %s 입니다.'%a)  #%s 문자열, %d 정수 , %f 실수\n",
        "\n",
        "#출력방법3\n",
        "print(f'변수 a에 기억된 값은 {a}입니다.')"
      ],
      "metadata": {
        "colab": {
          "base_uri": "https://localhost:8080/"
        },
        "id": "JuahKtE41q_4",
        "outputId": "06064648-7a32-4b74-ec40-5df9a056f4bf"
      },
      "execution_count": 19,
      "outputs": [
        {
          "output_type": "stream",
          "name": "stdout",
          "text": [
            "키보드로 숫자를 입력해 주세요123\n",
            "변수 a에 기억된 값은 123 입니다.\n",
            "변수 a에 기억된 값은 123 입니다.\n",
            "변수 a에 기억된 값은 123입니다.\n"
          ]
        }
      ]
    },
    {
      "cell_type": "markdown",
      "source": [
        "###[실습문제] 키보드로 두 수를 입력받아 간단한 계산기 프로그램 만들기"
      ],
      "metadata": {
        "id": "tH1Ksfmx5F1t"
      }
    },
    {
      "cell_type": "code",
      "source": [
        "a=int(input('첫번째 숫자:'))\n",
        "b=int(input('두번째 숫자:'))\n",
        "print('-'*30)\n",
        "print(f'덧셈 : {a}+{b}={a+b} ')\n",
        "print(f'뺄셈 : {a}-{b}={a-b} ')\n",
        "print(f'곱셈 : {a}*{b}={a*b} ')\n",
        "print(f'몫 : {a}//{b}={a//b} ')\n",
        "print(f'나머지 : {a}%{b}={a%b} ')"
      ],
      "metadata": {
        "colab": {
          "base_uri": "https://localhost:8080/"
        },
        "id": "98MtwCSX5MtB",
        "outputId": "7ee34e7f-1f6e-4f85-f7de-9ab47a0a5f06"
      },
      "execution_count": 20,
      "outputs": [
        {
          "output_type": "stream",
          "name": "stdout",
          "text": [
            "첫번째 숫자:50\n",
            "두번째 숫자:3\n",
            "------------------------------\n",
            "덧셈 : 50+3=53 \n",
            "뺄셈 : 50-3=47 \n",
            "곱셈 : 50*3=150 \n",
            "몫 : 50//3=16 \n",
            "나머지 : 50%3=2 \n"
          ]
        }
      ]
    },
    {
      "cell_type": "markdown",
      "source": [
        "###[실습문제]속력과 거리를 입력 받아 시간을 계산하는 프로그램 만들기"
      ],
      "metadata": {
        "id": "w6wKoj3W6d1i"
      }
    },
    {
      "cell_type": "code",
      "source": [
        "velocity=float(input('속력을 입력해 주세요(km/h) : '))\n",
        "distance=float(input('거리를 입력해 주세요(km) : '))\n",
        "print('-'*30)\n",
        "print(f'시간 : {distance/velocity}h')"
      ],
      "metadata": {
        "colab": {
          "base_uri": "https://localhost:8080/"
        },
        "id": "pdIfliRa6pYy",
        "outputId": "83fb9d84-3b0f-454d-a44b-9064c049ba66"
      },
      "execution_count": 21,
      "outputs": [
        {
          "output_type": "stream",
          "name": "stdout",
          "text": [
            "속력을 입력해 주세요(km/h) : 100\n",
            "거리를 입력해 주세요(km) : 340\n",
            "------------------------------\n",
            "시간 : 3.4h\n"
          ]
        }
      ]
    },
    {
      "cell_type": "markdown",
      "source": [
        "###파이썬 수학함수"
      ],
      "metadata": {
        "id": "z8RG9Klx9UqA"
      }
    },
    {
      "cell_type": "code",
      "source": [
        "import math\n",
        "print(math.pi)\n",
        "print(abs(-100))\n",
        "print(round(1.791,2))\n",
        "print(math.ceil(1.7))\n",
        "print(math.floor(1.7))\n",
        "print(math.pow(2,10))\n",
        "print(math.sqrt(4))\n",
        "print(math.log(10))\n"
      ],
      "metadata": {
        "colab": {
          "base_uri": "https://localhost:8080/"
        },
        "id": "HhyhbQvR9YWa",
        "outputId": "cdc77ad8-b85b-45a2-e4b7-33cf3d97a27c"
      },
      "execution_count": 33,
      "outputs": [
        {
          "output_type": "stream",
          "name": "stdout",
          "text": [
            "3.141592653589793\n",
            "100\n",
            "1.79\n",
            "2\n",
            "1\n",
            "1024.0\n",
            "2.0\n",
            "2.302585092994046\n"
          ]
        }
      ]
    },
    {
      "cell_type": "markdown",
      "source": [
        "###[실습]파이썬 수학 함수를 사용하여 계산하기"
      ],
      "metadata": {
        "id": "ToliVcScAdnx"
      }
    },
    {
      "cell_type": "code",
      "source": [
        "print(f'반지름이 4인 원의 넓이 : {round(math.pi*pow(4,2),2)}')\n",
        "print(f'계산결과 : {round(math.pi*2/7)}')\n",
        "print(f'반지름이 4인 원의 둘레 : {2*3.14*4}')\n"
      ],
      "metadata": {
        "colab": {
          "base_uri": "https://localhost:8080/"
        },
        "id": "FDIkyxfkAsKM",
        "outputId": "de4eebd5-22ec-4331-9262-16be64eda3aa"
      },
      "execution_count": 44,
      "outputs": [
        {
          "output_type": "stream",
          "name": "stdout",
          "text": [
            "반지름이 4인 원의 넓이 : 50.27\n",
            "계산결과 : 1\n",
            "반지름이 4인 원의 둘레 : 25.12\n"
          ]
        }
      ]
    },
    {
      "cell_type": "markdown",
      "source": [
        "###이스케이프(escape)문자 사용해서 출력"
      ],
      "metadata": {
        "id": "noid9Qy7GXSC"
      }
    },
    {
      "cell_type": "code",
      "source": [
        "print(r\"\\n\\t\\\"\\\\를 그대로 출력\")\n",
        "print(r\"\\n\\t\\\\\\를 그대로 출력\") #여기서 r은 \"raw\" 문자열을 나타내며, 이는 백슬래시(\\)를 이스케이프 문자로 해석하지 않고 그대로 문자열로 처리하도록 지정합니다."
      ],
      "metadata": {
        "colab": {
          "base_uri": "https://localhost:8080/"
        },
        "id": "jJpTQYj0Geyh",
        "outputId": "e3086260-b806-47cc-ba93-8eb08f1fc9a8"
      },
      "execution_count": 46,
      "outputs": [
        {
          "output_type": "stream",
          "name": "stdout",
          "text": [
            "\\n\\t\\\"\\\\를 그대로 출력\n",
            "\\n\\t\\\\\\를 그대로 출력\n"
          ]
        }
      ]
    },
    {
      "cell_type": "markdown",
      "source": [
        "### [퀴즈]아래와 같이 정수 a를 입력받아, a+aa+aaa의 결과 값을 구하는 프로그램 작성하세요"
      ],
      "metadata": {
        "id": "rtRfqVl7I4x1"
      }
    },
    {
      "cell_type": "code",
      "source": [
        "a=input('정수를 입력하세요 : ')\n",
        "print(f'{int(a)+int(a+a)+int(a+a+a)}')"
      ],
      "metadata": {
        "colab": {
          "base_uri": "https://localhost:8080/"
        },
        "id": "0Q5FZphsJNn3",
        "outputId": "14a42cf1-66d1-4cd5-b60c-45b37af9e399"
      },
      "execution_count": 47,
      "outputs": [
        {
          "output_type": "stream",
          "name": "stdout",
          "text": [
            "정수를 입력하세요 : 7\n",
            "861\n"
          ]
        }
      ]
    },
    {
      "cell_type": "code",
      "source": [
        "a=input('1~9까지 정수 1개 입력 :')\n",
        "a=int(a)\n",
        "aa=int(a+a)\n",
        "aaa=int(a+a+a)\n",
        "print(a+aa+aaa)"
      ],
      "metadata": {
        "colab": {
          "base_uri": "https://localhost:8080/"
        },
        "id": "RCdGV3VCLoER",
        "outputId": "3c62d64d-06e6-43c3-97d0-9d4e7f87ef26"
      },
      "execution_count": 50,
      "outputs": [
        {
          "output_type": "stream",
          "name": "stdout",
          "text": [
            "1~9까지 정수 1개 입력 :7\n",
            "42\n"
          ]
        }
      ]
    },
    {
      "cell_type": "code",
      "source": [
        "#eval() : 문자열을 숫자로 인식하고 계산하는 함수\n",
        "eval('7+77+777')"
      ],
      "metadata": {
        "colab": {
          "base_uri": "https://localhost:8080/"
        },
        "id": "x3MmTTSuM2ye",
        "outputId": "983a1246-746a-4590-b49b-75453acf8952"
      },
      "execution_count": 51,
      "outputs": [
        {
          "output_type": "execute_result",
          "data": {
            "text/plain": [
              "861"
            ]
          },
          "metadata": {},
          "execution_count": 51
        }
      ]
    },
    {
      "cell_type": "code",
      "source": [
        "a=input('1~9까지 정수 1개 입력 :')\n",
        "calc=f'{a}+{a*2}+{a*3}'\n",
        "print(f'{calc}={eval(calc)}')"
      ],
      "metadata": {
        "colab": {
          "base_uri": "https://localhost:8080/"
        },
        "id": "Nb1ViMQdNFCk",
        "outputId": "42710729-3aa4-4164-df33-95cdd52d20bf"
      },
      "execution_count": 1,
      "outputs": [
        {
          "output_type": "stream",
          "name": "stdout",
          "text": [
            "1~9까지 정수 1개 입력 :7\n",
            "7+77+777=861\n"
          ]
        }
      ]
    },
    {
      "cell_type": "markdown",
      "source": [
        "###단일 문자와 문자열 변환"
      ],
      "metadata": {
        "id": "ibklvMyhJfmf"
      }
    },
    {
      "cell_type": "code",
      "source": [
        "print(ord('A'))\n",
        "print(chr(65))"
      ],
      "metadata": {
        "colab": {
          "base_uri": "https://localhost:8080/"
        },
        "id": "jNGF7R0gJkGU",
        "outputId": "8ef0e742-350a-47d9-a979-8b3c8737b153"
      },
      "execution_count": 3,
      "outputs": [
        {
          "output_type": "stream",
          "name": "stdout",
          "text": [
            "65\n",
            "A\n"
          ]
        }
      ]
    },
    {
      "cell_type": "markdown",
      "source": [
        "### 따옴표 세 개 사용 : 여러 줄로 표현할 때"
      ],
      "metadata": {
        "id": "kp0_v4CfKLPs"
      }
    },
    {
      "cell_type": "code",
      "source": [
        "a='''박씨가 소리질렀다.\n",
        "도둑이야!'''\n",
        "print(a)"
      ],
      "metadata": {
        "colab": {
          "base_uri": "https://localhost:8080/"
        },
        "id": "KT7iPLS1KVDm",
        "outputId": "850a605a-53c3-47e9-b4ad-46157e9ca924"
      },
      "execution_count": 4,
      "outputs": [
        {
          "output_type": "stream",
          "name": "stdout",
          "text": [
            "박씨가 소리질렀다.\n",
            "도둑이야!\n"
          ]
        }
      ]
    },
    {
      "cell_type": "code",
      "source": [
        "print('hello'*3)"
      ],
      "metadata": {
        "colab": {
          "base_uri": "https://localhost:8080/"
        },
        "id": "ssEs7TZAK8DM",
        "outputId": "eebe41a2-ef98-4f07-ad82-a97ceab15689"
      },
      "execution_count": 7,
      "outputs": [
        {
          "output_type": "stream",
          "name": "stdout",
          "text": [
            "hellohellohello\n"
          ]
        }
      ]
    },
    {
      "cell_type": "code",
      "source": [
        "menu=\"\"\"카페 메뉴판\n",
        "-아메리카노 : 3000원\n",
        "-카페라테 : 4000원\n",
        "-카페모카 : 5000원\"\"\"\n",
        "print(menu)"
      ],
      "metadata": {
        "colab": {
          "base_uri": "https://localhost:8080/"
        },
        "id": "ZBd8B2oAKd-p",
        "outputId": "af3493f1-852e-4180-f1d7-ca0bc987de36"
      },
      "execution_count": 10,
      "outputs": [
        {
          "output_type": "stream",
          "name": "stdout",
          "text": [
            "카페 메뉴판\n",
            "-아메리카노 : 3000원\n",
            "-카페라테 : 4000원\n",
            "-카페모카 : 5000원\n"
          ]
        }
      ]
    },
    {
      "cell_type": "code",
      "source": [
        "!pip install gtts"
      ],
      "metadata": {
        "colab": {
          "base_uri": "https://localhost:8080/"
        },
        "id": "DFySBn-WLSdf",
        "outputId": "919afe38-e2a2-4f72-eabd-905e0d43cd3f"
      },
      "execution_count": 8,
      "outputs": [
        {
          "output_type": "stream",
          "name": "stdout",
          "text": [
            "Collecting gtts\n",
            "  Downloading gTTS-2.5.1-py3-none-any.whl (29 kB)\n",
            "Requirement already satisfied: requests<3,>=2.27 in /usr/local/lib/python3.10/dist-packages (from gtts) (2.31.0)\n",
            "Requirement already satisfied: click<8.2,>=7.1 in /usr/local/lib/python3.10/dist-packages (from gtts) (8.1.7)\n",
            "Requirement already satisfied: charset-normalizer<4,>=2 in /usr/local/lib/python3.10/dist-packages (from requests<3,>=2.27->gtts) (3.3.2)\n",
            "Requirement already satisfied: idna<4,>=2.5 in /usr/local/lib/python3.10/dist-packages (from requests<3,>=2.27->gtts) (3.6)\n",
            "Requirement already satisfied: urllib3<3,>=1.21.1 in /usr/local/lib/python3.10/dist-packages (from requests<3,>=2.27->gtts) (2.0.7)\n",
            "Requirement already satisfied: certifi>=2017.4.17 in /usr/local/lib/python3.10/dist-packages (from requests<3,>=2.27->gtts) (2024.2.2)\n",
            "Installing collected packages: gtts\n",
            "Successfully installed gtts-2.5.1\n"
          ]
        }
      ]
    },
    {
      "cell_type": "code",
      "source": [
        "#이거는 실행이 메뉴라고 밖에 안 읽어짐\n",
        "\n",
        "from gtts import gTTS\n",
        "from IPython.display import Audio\n",
        "\n",
        "# eng_wav = gTTS('Hello World!')\n",
        "# eng_wav.save('eng.wav')\n",
        "kor_wav = gTTS('menu', lang = 'ko')\n",
        "kor_wav.save('kor.wav')\n",
        "\n",
        "display(Audio('kor.wav', autoplay=True))"
      ],
      "metadata": {
        "colab": {
          "base_uri": "https://localhost:8080/",
          "height": 74
        },
        "id": "37EIOXkuLpwS",
        "outputId": "694ee730-6e08-4fb7-b639-2ddba0763f78"
      },
      "execution_count": 11,
      "outputs": [
        {
          "output_type": "display_data",
          "data": {
            "text/plain": [
              "<IPython.lib.display.Audio object>"
            ],
            "text/html": [
              "\n",
              "                <audio  controls=\"controls\" autoplay=\"autoplay\">\n",
              "                    <source src=\"data:audio/x-wav;base64,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\" type=\"audio/x-wav\" />\n",
              "                    Your browser does not support the audio element.\n",
              "                </audio>\n",
              "              "
            ]
          },
          "metadata": {}
        }
      ]
    },
    {
      "cell_type": "code",
      "source": [
        "\n",
        "# gtts 모듈로 텍스트를 소리로 읽어주기\n",
        "from gtts import gTTS\n",
        "from IPython.display import Audio\n",
        "\n",
        "# 영어 출력\n",
        "# eng_wav = gTTS('Hello World!')\n",
        "# eng_wav.save('eng.wav')\n",
        "# display(Audio('kor.wav', autoplay=True))\n",
        "\n",
        "# 한국어 출력\n",
        "kor_wav = gTTS(menu, lang = 'ko')\n",
        "kor_wav.save('kor.wav')\n",
        "display(Audio('kor.wav', autoplay=True))\n",
        ""
      ],
      "metadata": {
        "colab": {
          "base_uri": "https://localhost:8080/",
          "height": 74
        },
        "id": "9Tc4xF57L8v8",
        "outputId": "77887bd7-c125-4ffa-c242-d0d9032925ee"
      },
      "execution_count": 14,
      "outputs": [
        {
          "output_type": "display_data",
          "data": {
            "text/plain": [
              "<IPython.lib.display.Audio object>"
            ],
            "text/html": [
              "\n",
              "                <audio  controls=\"controls\" autoplay=\"autoplay\">\n",
              "                    <source src=\"data:audio/x-wav;base64,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\" type=\"audio/x-wav\" />\n",
              "                    Your browser does not support the audio element.\n",
              "                </audio>\n",
              "              "
            ]
          },
          "metadata": {}
        }
      ]
    },
    {
      "cell_type": "markdown",
      "source": [
        "###문자열 함수"
      ],
      "metadata": {
        "id": "q5tE9WxROVBp"
      }
    },
    {
      "cell_type": "code",
      "source": [
        "a='hobby'\n",
        "print(a.count('b'))\n",
        "\n",
        "a='Python is best choice'\n",
        "print(a.find('b'))\n",
        "print(a.find('is'))\n",
        "print(a.find('k'))\n",
        "print(a.index('b'))\n",
        "print(a.index('is'))\n",
        "print(a.index('k'))"
      ],
      "metadata": {
        "colab": {
          "base_uri": "https://localhost:8080/",
          "height": 294
        },
        "id": "4t637NuCN-Yl",
        "outputId": "c8b6c1cb-87c0-47e5-c36d-e14fcf44beb2"
      },
      "execution_count": 24,
      "outputs": [
        {
          "output_type": "stream",
          "name": "stdout",
          "text": [
            "2\n",
            "10\n",
            "7\n",
            "-1\n",
            "10\n",
            "7\n"
          ]
        },
        {
          "output_type": "error",
          "ename": "ValueError",
          "evalue": "substring not found",
          "traceback": [
            "\u001b[0;31m---------------------------------------------------------------------------\u001b[0m",
            "\u001b[0;31mValueError\u001b[0m                                Traceback (most recent call last)",
            "\u001b[0;32m<ipython-input-24-33da9f6cb3f4>\u001b[0m in \u001b[0;36m<cell line: 10>\u001b[0;34m()\u001b[0m\n\u001b[1;32m      8\u001b[0m \u001b[0mprint\u001b[0m\u001b[0;34m(\u001b[0m\u001b[0ma\u001b[0m\u001b[0;34m.\u001b[0m\u001b[0mindex\u001b[0m\u001b[0;34m(\u001b[0m\u001b[0;34m'b'\u001b[0m\u001b[0;34m)\u001b[0m\u001b[0;34m)\u001b[0m\u001b[0;34m\u001b[0m\u001b[0;34m\u001b[0m\u001b[0m\n\u001b[1;32m      9\u001b[0m \u001b[0mprint\u001b[0m\u001b[0;34m(\u001b[0m\u001b[0ma\u001b[0m\u001b[0;34m.\u001b[0m\u001b[0mindex\u001b[0m\u001b[0;34m(\u001b[0m\u001b[0;34m'is'\u001b[0m\u001b[0;34m)\u001b[0m\u001b[0;34m)\u001b[0m\u001b[0;34m\u001b[0m\u001b[0;34m\u001b[0m\u001b[0m\n\u001b[0;32m---> 10\u001b[0;31m \u001b[0mprint\u001b[0m\u001b[0;34m(\u001b[0m\u001b[0ma\u001b[0m\u001b[0;34m.\u001b[0m\u001b[0mindex\u001b[0m\u001b[0;34m(\u001b[0m\u001b[0;34m'k'\u001b[0m\u001b[0;34m)\u001b[0m\u001b[0;34m)\u001b[0m\u001b[0;34m\u001b[0m\u001b[0;34m\u001b[0m\u001b[0m\n\u001b[0m",
            "\u001b[0;31mValueError\u001b[0m: substring not found"
          ]
        }
      ]
    },
    {
      "cell_type": "code",
      "source": [
        "a=','\n",
        "print(a.join('abcd'))\n",
        "a='!'\n",
        "print(a.join('파이썬'))\n",
        "a='python'\n",
        "print(a.upper())\n",
        "a=\"PYTHON\"\n",
        "print(a.lower())\n",
        "a=\" 파이썬 \"\n",
        "print(a.strip())\n",
        "print(a.lstrip())\n",
        "print(a.rstrip())\n",
        "a='Life is too short'\n",
        "print(a.replace('Life','Your leg'))\n",
        "a=\"Life is too short\"\n",
        "print(a.split())\n",
        "a='a,b,c,d'\n",
        "print(a.split('.'))\n"
      ],
      "metadata": {
        "colab": {
          "base_uri": "https://localhost:8080/"
        },
        "id": "U2z2is4DPOE6",
        "outputId": "c3387c98-07bb-4396-c49b-e978fdf55c06"
      },
      "execution_count": 36,
      "outputs": [
        {
          "output_type": "stream",
          "name": "stdout",
          "text": [
            "a,b,c,d\n",
            "파!이!썬\n",
            "PYTHON\n",
            "python\n",
            "파이썬\n",
            "파이썬 \n",
            " 파이썬\n",
            "Your leg is too short\n",
            "['Life', 'is', 'too', 'short']\n",
            "['a,b,c,d']\n"
          ]
        }
      ]
    },
    {
      "cell_type": "code",
      "source": [
        "### 문자열을 입력 받아 거꾸로 출력하는 프로그램을 작성하세요."
      ],
      "metadata": {
        "id": "rxO7kSAjRZxz"
      },
      "execution_count": null,
      "outputs": []
    },
    {
      "cell_type": "code",
      "source": [
        "s=input('문자열을 입력하세요: ')\n",
        "print(s[::-1])"
      ],
      "metadata": {
        "colab": {
          "base_uri": "https://localhost:8080/"
        },
        "id": "9Yp84uhnReVq",
        "outputId": "47d1fa74-e760-4754-ab3a-c45274ebdac1"
      },
      "execution_count": 38,
      "outputs": [
        {
          "output_type": "stream",
          "name": "stdout",
          "text": [
            "문자열을 입력하세요: 사랑해요 파이썬!\n",
            "!썬이파 요해랑사\n"
          ]
        }
      ]
    },
    {
      "cell_type": "markdown",
      "source": [
        "### 확장자가 포함된 파일명 전체를 입력 받아 파일명과 확장자를 분리해서 출력하는 프로그램을 만들기"
      ],
      "metadata": {
        "id": "lLmi8XwqTuSE"
      }
    },
    {
      "cell_type": "code",
      "source": [
        "a=input('파일을 입력하세요:')\n",
        "filename=a.split('.')\n",
        "print(f'파일: {filename}')\n",
        "print(f'파일명 : {filename[0]},확장자 : {filename[1]}')"
      ],
      "metadata": {
        "colab": {
          "base_uri": "https://localhost:8080/"
        },
        "id": "6QU7g_fhT1NP",
        "outputId": "4e4f3975-b2e3-4456-dadc-ed6d2fa26b66"
      },
      "execution_count": 41,
      "outputs": [
        {
          "output_type": "stream",
          "name": "stdout",
          "text": [
            "파일을 입력하세요:test.py\n",
            "파일: ['test', 'py']\n",
            "파일명 : test,확장자 : py\n"
          ]
        }
      ]
    }
  ]
}