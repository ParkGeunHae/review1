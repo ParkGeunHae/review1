{
  "nbformat": 4,
  "nbformat_minor": 0,
  "metadata": {
    "colab": {
      "provenance": [],
      "toc_visible": true,
      "authorship_tag": "ABX9TyMUMXPu8C4jBm5NCqV38FPt",
      "include_colab_link": true
    },
    "kernelspec": {
      "name": "python3",
      "display_name": "Python 3"
    },
    "language_info": {
      "name": "python"
    }
  },
  "cells": [
    {
      "cell_type": "markdown",
      "metadata": {
        "id": "view-in-github",
        "colab_type": "text"
      },
      "source": [
        "<a href=\"https://colab.research.google.com/github/ParkGeunHae/review1/blob/main/1%EC%9D%BC%EC%B0%A8%EB%B3%B5%EC%8A%B5.ipynb\" target=\"_parent\"><img src=\"https://colab.research.google.com/assets/colab-badge.svg\" alt=\"Open In Colab\"/></a>"
      ]
    },
    {
      "cell_type": "code",
      "execution_count": 2,
      "metadata": {
        "colab": {
          "base_uri": "https://localhost:8080/"
        },
        "id": "-em3_85kqRJC",
        "outputId": "d8c5edad-1875-4810-ba7c-f124eb69c8cf"
      },
      "outputs": [
        {
          "output_type": "stream",
          "name": "stdout",
          "text": [
            "['/content', '/env/python', '/usr/lib/python310.zip', '/usr/lib/python3.10', '/usr/lib/python3.10/lib-dynload', '', '/usr/local/lib/python3.10/dist-packages', '/usr/lib/python3/dist-packages', '/usr/local/lib/python3.10/dist-packages/IPython/extensions', '/root/.ipython']\n"
          ]
        }
      ],
      "source": [
        "import sys\n",
        "sys.executable\n",
        "print(sys.path)"
      ]
    },
    {
      "cell_type": "markdown",
      "source": [
        "#1.설치된 파이썬 버전 출력하기\n"
      ],
      "metadata": {
        "id": "v819rdLkrXhn"
      }
    },
    {
      "cell_type": "code",
      "source": [
        "!python -V"
      ],
      "metadata": {
        "colab": {
          "base_uri": "https://localhost:8080/"
        },
        "id": "On9dPn2prT7x",
        "outputId": "53d6088f-2f95-421c-8a4a-45dcbe6b43f8"
      },
      "execution_count": 4,
      "outputs": [
        {
          "output_type": "stream",
          "name": "stdout",
          "text": [
            "Python 3.10.12\n"
          ]
        }
      ]
    },
    {
      "cell_type": "markdown",
      "source": [
        "#2.파이썬 실행파일(python.exe)위치 또는 파이썬 설치 위치 출력하기"
      ],
      "metadata": {
        "id": "BtxcbK-ztmco"
      }
    },
    {
      "cell_type": "code",
      "source": [
        "import sys\n",
        "print(sys.version)\n",
        "sys.executable"
      ],
      "metadata": {
        "colab": {
          "base_uri": "https://localhost:8080/",
          "height": 54
        },
        "id": "mjC9oS9qtzj8",
        "outputId": "41782d4c-2859-4dcc-8b72-c49f29200de7"
      },
      "execution_count": 8,
      "outputs": [
        {
          "output_type": "stream",
          "name": "stdout",
          "text": [
            "3.10.12 (main, Nov 20 2023, 15:14:05) [GCC 11.4.0]\n"
          ]
        },
        {
          "output_type": "execute_result",
          "data": {
            "text/plain": [
              "'/usr/bin/python3'"
            ],
            "application/vnd.google.colaboratory.intrinsic+json": {
              "type": "string"
            }
          },
          "metadata": {},
          "execution_count": 8
        }
      ]
    },
    {
      "cell_type": "markdown",
      "source": [
        "#3.현재 위치(물리적위치/폴더 위치)출력하기"
      ],
      "metadata": {
        "id": "UtQBAlwpwSas"
      }
    },
    {
      "cell_type": "code",
      "source": [
        "import os\n",
        "os.getcwd()"
      ],
      "metadata": {
        "colab": {
          "base_uri": "https://localhost:8080/",
          "height": 35
        },
        "id": "B4aVcqSFvkkQ",
        "outputId": "73ad2e3c-4f97-4c40-b35a-407e4f6c5dfd"
      },
      "execution_count": 9,
      "outputs": [
        {
          "output_type": "execute_result",
          "data": {
            "text/plain": [
              "'/content'"
            ],
            "application/vnd.google.colaboratory.intrinsic+json": {
              "type": "string"
            }
          },
          "metadata": {},
          "execution_count": 9
        }
      ]
    },
    {
      "cell_type": "markdown",
      "source": [
        "#4.산술 연산하기"
      ],
      "metadata": {
        "id": "ZhSusSIcxcV0"
      }
    },
    {
      "cell_type": "code",
      "source": [
        "print(10+20)\n",
        "print(20-10)\n",
        "print(20*10)\n",
        "print(10/5)\n",
        "print(10%5)\n",
        "print(10**3)"
      ],
      "metadata": {
        "colab": {
          "base_uri": "https://localhost:8080/"
        },
        "id": "RUJ9Fp0Oxf2K",
        "outputId": "2eeb1ae2-5280-426e-eef4-ae71e3d517db"
      },
      "execution_count": 19,
      "outputs": [
        {
          "output_type": "stream",
          "name": "stdout",
          "text": [
            "30\n",
            "10\n",
            "200\n",
            "2.0\n",
            "0\n",
            "1000\n"
          ]
        }
      ]
    },
    {
      "cell_type": "markdown",
      "source": [
        "#5.파이썬 자료형 확인"
      ],
      "metadata": {
        "id": "ntVKylIQzLsI"
      }
    },
    {
      "cell_type": "code",
      "source": [
        "d1=123\n",
        "d2='123'\n",
        "d3=[123]\n",
        "d4=(123,)\n",
        "d5={'key':123}\n",
        "d6={123}\n",
        "d7=True\n",
        "\n",
        "print(f'{d1}의 자료형: {type(d1)}')\n",
        "print(f'{d2}의 자료형: {type(d2)}')\n",
        "print(f'{d3}의 자료형: {type(d3)}')\n",
        "print(f'{d4}의 자료형: {type(d4)}')\n",
        "print(f'{d5}의 자료형: {type(d5)}')\n",
        "print(f'{d6}의 자료형: {type(d6)}')\n",
        "print(f'{d7}의 자료형: {type(d7)}')"
      ],
      "metadata": {
        "colab": {
          "base_uri": "https://localhost:8080/"
        },
        "id": "BnnkoKxZzOtO",
        "outputId": "eccb7ab0-4a20-4ada-ba0f-e39fd9b0ecbe"
      },
      "execution_count": 21,
      "outputs": [
        {
          "output_type": "stream",
          "name": "stdout",
          "text": [
            "123의 자료형: <class 'int'>\n",
            "123의 자료형: <class 'str'>\n",
            "[123]의 자료형: <class 'list'>\n",
            "(123,)의 자료형: <class 'tuple'>\n",
            "{'key': 123}의 자료형: <class 'dict'>\n",
            "{123}의 자료형: <class 'set'>\n",
            "True의 자료형: <class 'bool'>\n"
          ]
        }
      ]
    },
    {
      "cell_type": "markdown",
      "source": [
        "#6. 표준 입력과 출력"
      ],
      "metadata": {
        "id": "XNeELxBW0kOf"
      }
    },
    {
      "cell_type": "code",
      "source": [
        "a=input('키보드로 숫자를 입력해 주세요')\n",
        "\n",
        "#출력 방법1\n",
        "print('변수 a에 기억된 값은 ',a,'입니다.')\n",
        "\n",
        "#출력 방법2\n",
        "print('변수 a에 기억된 값은 %s 입니다.' %a)\n",
        "\n",
        "#출력 방법3\n",
        "print(f'변수 a에 기억된 값은 {a}입니다.')"
      ],
      "metadata": {
        "colab": {
          "base_uri": "https://localhost:8080/"
        },
        "id": "rVFcJvSV0vzc",
        "outputId": "6dda107b-6203-4cf6-f915-dd9f9a1857d4"
      },
      "execution_count": 24,
      "outputs": [
        {
          "output_type": "stream",
          "name": "stdout",
          "text": [
            "키보드로 숫자를 입력해 주세요10\n",
            "변수 a에 기억된 값은  10 입니다.\n",
            "변수 a에 기억된 값은 10 입니다.\n",
            "변수 a에 기억된 값은 10입니다.\n"
          ]
        }
      ]
    },
    {
      "cell_type": "markdown",
      "source": [
        "#7.print()함수를 사용한 다양한 출력 방식"
      ],
      "metadata": {
        "id": "xI3V5yGI39dv"
      }
    },
    {
      "cell_type": "code",
      "source": [
        "print('%d %d %f' %(100,200,0.5))\n",
        "print('%d' %123)\n",
        "print('%5d' %123)\n",
        "print('%05d' %123)\n",
        "\n",
        "print('%f' %123.45)\n",
        "print('%7.1f' %123.45)\n",
        "print('%7.3f' %123.45)\n",
        "\n",
        "print('%s' %'python')\n",
        "print('%10s' %'python')\n"
      ],
      "metadata": {
        "colab": {
          "base_uri": "https://localhost:8080/"
        },
        "id": "ANwPn5kM4ENA",
        "outputId": "51539820-1949-4843-a4f2-74e68aca2679"
      },
      "execution_count": 28,
      "outputs": [
        {
          "output_type": "stream",
          "name": "stdout",
          "text": [
            "100 200 0.500000\n",
            "123\n",
            "  123\n",
            "00123\n",
            "123.450000\n",
            "  123.5\n",
            "123.450\n",
            "python\n",
            "    python\n"
          ]
        }
      ]
    },
    {
      "cell_type": "markdown",
      "source": [
        "#8.format함수 사용"
      ],
      "metadata": {
        "id": "erS7-E_H66Ff"
      }
    },
    {
      "cell_type": "code",
      "source": [
        "print('%d %5d %05d' %(123,123,123))\n",
        "print('{0:d} {1:5d} {2:05d}'.format(123,123,123))\n",
        "\n",
        "#format()을 사용해 출력 순서 지정\n",
        "print('{2:d} {1:d} {0:d}'.format(100,200,300))\n",
        "\n",
        "#fstring을 사용해 출력 지정\n",
        "print(f'{123} {123:>5} {123:0>5}')"
      ],
      "metadata": {
        "colab": {
          "base_uri": "https://localhost:8080/"
        },
        "id": "ajefwqqF7IJX",
        "outputId": "0960cc17-096c-4902-b785-9d9a7dc4113b"
      },
      "execution_count": 33,
      "outputs": [
        {
          "output_type": "stream",
          "name": "stdout",
          "text": [
            "123   123 00123\n",
            "123   123 00123\n",
            "300 200 100\n",
            "123   123 00123\n"
          ]
        }
      ]
    },
    {
      "cell_type": "markdown",
      "source": [
        "#9.f-string을 사용하는 예"
      ],
      "metadata": {
        "id": "T4_F4iIO9QMU"
      }
    },
    {
      "cell_type": "code",
      "source": [
        "name='홍길동'\n",
        "age=10\n",
        "height=110.4\n",
        "\n",
        "f_s1=f'제 이름은 {name}이고, 나이는 {age}, 키는 {height}입니다.'\n",
        "print(f_s1)\n",
        "\n",
        "f_s1=f'제 이름은 {name:10}이고, 나이는 {age:10}, 키는 {height:10.3f}입니다.'\n",
        "print(f_s1)"
      ],
      "metadata": {
        "colab": {
          "base_uri": "https://localhost:8080/"
        },
        "id": "p8cOCgy9tZOA",
        "outputId": "d42c2f24-338d-40b5-ba54-5fcc27d8e460"
      },
      "execution_count": 2,
      "outputs": [
        {
          "output_type": "stream",
          "name": "stdout",
          "text": [
            "제 이름은 홍길동이고, 나이는 10, 키는 110.4입니다.\n",
            "제 이름은 홍길동       이고, 나이는         10, 키는    110.400입니다.\n"
          ]
        }
      ]
    },
    {
      "cell_type": "markdown",
      "source": [
        "#10.이스케이프 문자 사용해서 출력"
      ],
      "metadata": {
        "id": "IHmESHneusBX"
      }
    },
    {
      "cell_type": "code",
      "source": [
        "print('\\n줄바꿈\\n연습')\n",
        "print('\\t탭키\\t연습')\n",
        "print('글자가 \\\"강조\\\"되는 효과1')\n",
        "print(\"글자가 \\'강조\\'되는 효과2\")\n",
        "print('\\\\\\\\\\\\ 역슬래시 세 개 출력')"
      ],
      "metadata": {
        "colab": {
          "base_uri": "https://localhost:8080/"
        },
        "id": "U0lTDkrmuIIj",
        "outputId": "6c0ae9b9-a276-4baf-91fa-5e09176d60ed"
      },
      "execution_count": 7,
      "outputs": [
        {
          "output_type": "stream",
          "name": "stdout",
          "text": [
            "\n",
            "줄바꿈\n",
            "연습\n",
            "\t탭키\t연습\n",
            "글자가 \"강조\"되는 효과1\n",
            "글자가 '강조'되는 효과2\n",
            "\\\\\\ 역슬래시 세 개 출력\n"
          ]
        }
      ]
    }
  ]
}